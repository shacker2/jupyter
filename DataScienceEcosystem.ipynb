{
 "cells": [
  {
   "cell_type": "markdown",
   "id": "1549ed98-45bc-4e6b-a2ce-7842191f1620",
   "metadata": {},
   "source": [
    "# Data Science Tools and Ecosystem"
   ]
  },
  {
   "cell_type": "markdown",
   "id": "2b458647-bbfb-4f75-8ae4-e347bad61e54",
   "metadata": {
    "tags": []
   },
   "source": [
    "### In this notebook, Data Science Tools and Ecosystem are summarized."
   ]
  },
  {
   "cell_type": "markdown",
   "id": "d050e1e9-6292-4557-a3b7-4f40bd38d41b",
   "metadata": {},
   "source": [
    "**Objectives:**\n",
    "\n",
    "- List popupar languages\n",
    "- List popular libraries\n",
    "- Data science tools"
   ]
  },
  {
   "cell_type": "markdown",
   "id": "083a249e-2f6f-4107-94a6-871d473bb4e0",
   "metadata": {},
   "source": [
    "Some of the popular languages that Data Scientists use are:\n",
    "1. Python\n",
    "2. R\n",
    "3. SQL"
   ]
  },
  {
   "cell_type": "markdown",
   "id": "28863fc8-df10-4e76-8112-1f1c84967501",
   "metadata": {},
   "source": [
    "Some of the commonly used libraries used by Data Scientists include:\n",
    "1. Numpy\n",
    "2. MathPLot\n",
    "3. PyTorch"
   ]
  },
  {
   "cell_type": "markdown",
   "id": "177071c3-cbbd-4a1b-81aa-468b6415bbaa",
   "metadata": {},
   "source": [
    "Data science common tools\n",
    "\n",
    "| Software | Description |\n",
    "|----------|-------------|\n",
    "| Pandas | Pandas is a software library written for the Python programming language for data manipulation and analysis. In particular, it offers data structures and operations for manipulating numerical tables and time series. It is free software released under the three-clause BSD license |\n",
    "| Juputer Notebooks | Jupyter Notebook is platform and language agnostic due to its representation in JSON forma |\n",
    "| Tableau | Tableau is very popular with data scientists because its drag-and-drop interface makes it easy to sort, compare, and analyze dat |"
   ]
  },
  {
   "cell_type": "markdown",
   "id": "ca8e764c-0e56-4164-846e-ecde597dec37",
   "metadata": {
    "tags": []
   },
   "source": [
    "### Below are a few examples of evaluating arithmetic expressions in Python"
   ]
  },
  {
   "cell_type": "code",
   "execution_count": 3,
   "id": "2795c7e4-2739-42bb-a1ee-963bbefcb6e8",
   "metadata": {
    "tags": []
   },
   "outputs": [
    {
     "data": {
      "text/plain": [
       "17"
      ]
     },
     "execution_count": 3,
     "metadata": {},
     "output_type": "execute_result"
    }
   ],
   "source": [
    "# This a simple arithmetic expression to mutiply then add integers\n",
    "(3*4)+5"
   ]
  },
  {
   "cell_type": "code",
   "execution_count": 5,
   "id": "23307f31-654f-4f9c-ab03-cf6318a93d90",
   "metadata": {
    "tags": []
   },
   "outputs": [
    {
     "data": {
      "text/plain": [
       "3.3333333333333335"
      ]
     },
     "execution_count": 5,
     "metadata": {},
     "output_type": "execute_result"
    }
   ],
   "source": [
    "#This will convert 200 minutes to hours by diving by 60\n",
    "200/60\n"
   ]
  },
  {
   "cell_type": "markdown",
   "id": "6181af51-b8de-4734-b82f-b7e0adc0f2ca",
   "metadata": {},
   "source": [
    "## Author\n",
    "Lucas Vitale"
   ]
  },
  {
   "cell_type": "code",
   "execution_count": null,
   "id": "98b37599-c7a7-4e50-8703-bc5b0945832f",
   "metadata": {},
   "outputs": [],
   "source": []
  },
  {
   "cell_type": "code",
   "execution_count": null,
   "id": "65cf11c9-5a48-43f1-8725-c766331c35d2",
   "metadata": {},
   "outputs": [],
   "source": []
  },
  {
   "cell_type": "code",
   "execution_count": null,
   "id": "b4ded4c3-b2e8-4b8e-a7a2-e0ac2dd32bc1",
   "metadata": {},
   "outputs": [],
   "source": []
  }
 ],
 "metadata": {
  "kernelspec": {
   "display_name": "Python",
   "language": "python",
   "name": "conda-env-python-py"
  },
  "language_info": {
   "codemirror_mode": {
    "name": "ipython",
    "version": 3
   },
   "file_extension": ".py",
   "mimetype": "text/x-python",
   "name": "python",
   "nbconvert_exporter": "python",
   "pygments_lexer": "ipython3",
   "version": "3.7.12"
  }
 },
 "nbformat": 4,
 "nbformat_minor": 5
}
